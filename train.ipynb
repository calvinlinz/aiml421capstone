{
 "cells": [
  {
   "cell_type": "code",
   "execution_count": 15,
   "metadata": {},
   "outputs": [
    {
     "name": "stdout",
     "output_type": "stream",
     "text": [
      "Loaded 1495 images from cherry class.\n",
      "Loaded 1495 images from strawberry class.\n",
      "Loaded 1495 images from tomato class.\n"
     ]
    }
   ],
   "source": [
    "import os\n",
    "from PIL import Image\n",
    "\n",
    "# Define the classes\n",
    "classes = ['cherry', 'strawberry', 'tomato']\n",
    "data_dir = './train_data'\n",
    "\n",
    "# Dictionary to store the loaded images\n",
    "data = {}\n",
    "\n",
    "for class_name in classes:\n",
    "    class_dir = os.path.join(data_dir, class_name)\n",
    "    images = []\n",
    "    \n",
    "    # Loop through all files in the class directory\n",
    "    for file_name in os.listdir(class_dir):\n",
    "        if file_name.endswith(('.jpg')):  # Check for image files\n",
    "            file_path = os.path.join(class_dir, file_name)\n",
    "            \n",
    "            # Open the image and append it to the list\n",
    "            img = Image.open(file_path)\n",
    "            images.append(img)\n",
    "    \n",
    "    # Store images for this class\n",
    "    data[class_name] = images\n",
    "\n",
    "# Example: Accessing images from the 'cherry' class\n",
    "print(f'Loaded {len(data[\"cherry\"])} images from cherry class.')\n",
    "print(f'Loaded {len(data[\"strawberry\"])} images from strawberry class.')\n",
    "print(f'Loaded {len(data[\"tomato\"])} images from tomato class.')"
   ]
  }
 ],
 "metadata": {
  "language_info": {
   "name": "python"
  }
 },
 "nbformat": 4,
 "nbformat_minor": 2
}
